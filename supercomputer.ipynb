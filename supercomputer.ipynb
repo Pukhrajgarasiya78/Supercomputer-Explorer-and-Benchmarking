{
 "cells": [
  {
   "cell_type": "code",
   "execution_count": 24,
   "metadata": {},
   "outputs": [],
   "source": [
    "# # Step 1: Data Preparation and Loading\n",
    "\n",
    "# import pandas as pd\n",
    "\n",
    "# # Load datasets for supercomputers in 2021 and 2022\n",
    "# df_2021 = pd.read_csv('D:\\Projects\\Benchmarking and Comparison of Supercomputers\\supecomputer 2021.csv')\n",
    "# df_2022 = pd.read_csv('D:\\Projects\\Benchmarking and Comparison of Supercomputers\\supercomputers in 2022 - in 2022.csv')"
   ]
  },
  {
   "cell_type": "code",
   "execution_count": 25,
   "metadata": {},
   "outputs": [],
   "source": [
    "# df_2021.isnull().sum()"
   ]
  },
  {
   "cell_type": "code",
   "execution_count": 26,
   "metadata": {},
   "outputs": [],
   "source": [
    "# df_2022.isnull().sum()"
   ]
  },
  {
   "cell_type": "code",
   "execution_count": 27,
   "metadata": {},
   "outputs": [],
   "source": [
    "# def clean_data_2021(df):\n",
    "#     df = df.dropna(subset=['Name', 'Manufacturer', 'Rmax [TFlop/s]', 'Rpeak [TFlop/s]'])\n",
    "#     df = df.fillna(0)\n",
    "#     return df"
   ]
  },
  {
   "cell_type": "code",
   "execution_count": 28,
   "metadata": {},
   "outputs": [],
   "source": [
    "# def clean_data_2022(df):\n",
    "#     df = df.dropna(subset=['Name', 'Manufacturer', 'Rmax (PFlop/s)', 'Rpeak (PFlop/s)'])\n",
    "#     df['Rmax (PFlop/s)'] = df['Rmax (PFlop/s)'].str.replace(',', '').astype(float)\n",
    "#     df['Rpeak (PFlop/s)'] = df['Rpeak (PFlop/s)'].str.replace(',', '').astype(float)\n",
    "#     df = df.fillna(0)\n",
    "#     return df"
   ]
  },
  {
   "cell_type": "code",
   "execution_count": 29,
   "metadata": {},
   "outputs": [],
   "source": [
    "# # Clean and process the data\n",
    "# df_2021 = clean_data_2021(df_2021)\n",
    "# df_2022 = clean_data_2022(df_2022)"
   ]
  },
  {
   "cell_type": "code",
   "execution_count": 30,
   "metadata": {},
   "outputs": [],
   "source": [
    "# # Convert units for comparison\n",
    "# df_2022['Rmax [TFlop/s]'] = df_2022['Rmax (PFlop/s)'] * 1000  # Convert PFlop/s to TFlop/s\n",
    "# df_2022['Rpeak [TFlop/s]'] = df_2022['Rpeak (PFlop/s)'] * 1000  # Convert PFlop/s to TFlop/s"
   ]
  },
  {
   "cell_type": "code",
   "execution_count": 31,
   "metadata": {},
   "outputs": [],
   "source": [
    "# # Standardize column names for merging\n",
    "# df_2022.rename(columns={\n",
    "#     'current rank': 'Rank',\n",
    "#     'Manufacturer/ Country': 'Manufacturer',\n",
    "#     'where this supercomputer present': 'Country',\n",
    "#     'Cores': 'Total Cores'\n",
    "# }, inplace=True)"
   ]
  },
  {
   "cell_type": "code",
   "execution_count": 32,
   "metadata": {},
   "outputs": [],
   "source": [
    "\n",
    "# # Select necessary columns for merging\n",
    "# df_2022 = df_2022[['Rank', 'Manufacturer', 'Computer/System Model', 'Name', 'Country', 'Total Cores', 'Rmax [TFlop/s]', 'Rpeak [TFlop/s]', 'Power (kW)']]\n",
    "\n",
    "# # Ensure the columns are consistent in both datasets\n",
    "# df_2021 = df_2021[['Rank', 'Manufacturer', 'Computer/System Model', 'Name', 'Country', 'Total Cores', 'Rmax [TFlop/s]', 'Rpeak [TFlop/s]', 'Power (kW)']]\n"
   ]
  },
  {
   "cell_type": "code",
   "execution_count": 33,
   "metadata": {},
   "outputs": [],
   "source": [
    "# # Merge datasets\n",
    "# df = pd.concat([df_2021, df_2022], ignore_index=True)"
   ]
  },
  {
   "cell_type": "code",
   "execution_count": 34,
   "metadata": {},
   "outputs": [],
   "source": [
    "# # Fill missing values with 0\n",
    "# df['Total Cores'] = df['Total Cores'].fillna(0)"
   ]
  },
  {
   "cell_type": "code",
   "execution_count": 35,
   "metadata": {},
   "outputs": [],
   "source": [
    "# # Remove commas from 'Total Cores' and convert to integer\n",
    "# df['Total Cores'] = df['Total Cores'].astype(str).str.replace(',', '').astype(int)\n"
   ]
  },
  {
   "cell_type": "code",
   "execution_count": 36,
   "metadata": {},
   "outputs": [],
   "source": [
    "# # Display the first few rows of the merged dataframe\n",
    "# df.head()"
   ]
  },
  {
   "cell_type": "code",
   "execution_count": 37,
   "metadata": {},
   "outputs": [],
   "source": [
    "# df.shape"
   ]
  },
  {
   "cell_type": "code",
   "execution_count": 38,
   "metadata": {},
   "outputs": [],
   "source": [
    "# df.isnull().sum()"
   ]
  },
  {
   "cell_type": "code",
   "execution_count": 39,
   "metadata": {},
   "outputs": [],
   "source": [
    "# import matplotlib.pyplot as plt\n",
    "# import seaborn as sns\n",
    "\n",
    "# # Example EDA and Visualization\n",
    "# # Summary statistics\n",
    "# df[['Rmax [TFlop/s]', 'Rpeak [TFlop/s]', 'Total Cores']].describe()"
   ]
  },
  {
   "cell_type": "code",
   "execution_count": 40,
   "metadata": {},
   "outputs": [],
   "source": [
    "# # Distribution plots\n",
    "# plt.figure(figsize=(12, 6))\n",
    "# plt.subplot(2, 2, 1)\n",
    "# sns.histplot(df['Rmax [TFlop/s]'], bins=20, kde=True, color='skyblue')\n",
    "# plt.title('Distribution of Rmax [TFlop/s]')"
   ]
  },
  {
   "cell_type": "code",
   "execution_count": 41,
   "metadata": {},
   "outputs": [],
   "source": [
    "# plt.subplot(2, 2, 2)\n",
    "# sns.histplot(df['Rpeak [TFlop/s]'], bins=20, kde=True, color='salmon')\n",
    "# plt.title('Distribution of Rpeak [TFlop/s]')"
   ]
  },
  {
   "cell_type": "code",
   "execution_count": 42,
   "metadata": {},
   "outputs": [],
   "source": [
    "# plt.subplot(2, 2, 3)\n",
    "# sns.boxplot(x='Manufacturer', y='Rmax [TFlop/s]', data=df)\n",
    "# plt.title('Rmax [TFlop/s] by Manufacturer')\n",
    "# plt.xticks(rotation=90)"
   ]
  },
  {
   "cell_type": "code",
   "execution_count": 43,
   "metadata": {},
   "outputs": [],
   "source": [
    "# plt.subplot(2, 2, 4)\n",
    "# sns.scatterplot(x='Total Cores', y='Rmax [TFlop/s]', data=df, hue='Country')\n",
    "# plt.title('Rmax [TFlop/s] vs Total Cores')\n",
    "# plt.tight_layout()\n",
    "# plt.show()"
   ]
  },
  {
   "cell_type": "code",
   "execution_count": 44,
   "metadata": {},
   "outputs": [],
   "source": [
    "# # Correlation heatmap\n",
    "# plt.figure(figsize=(8, 6))\n",
    "# sns.heatmap(df[['Rmax [TFlop/s]', 'Rpeak [TFlop/s]', 'Total Cores']].corr(), annot=True, cmap='coolwarm', vmin=-1, vmax=1)\n",
    "# plt.title('Correlation Heatmap')\n",
    "# plt.show()\n"
   ]
  },
  {
   "cell_type": "code",
   "execution_count": 45,
   "metadata": {},
   "outputs": [],
   "source": [
    "# df.to_pickle('combined_data.pkl')"
   ]
  },
  {
   "cell_type": "code",
   "execution_count": 46,
   "metadata": {},
   "outputs": [
    {
     "name": "stderr",
     "output_type": "stream",
     "text": [
      "<>:4: SyntaxWarning: invalid escape sequence '\\P'\n",
      "<>:9: SyntaxWarning: invalid escape sequence '\\P'\n",
      "<>:4: SyntaxWarning: invalid escape sequence '\\P'\n",
      "<>:9: SyntaxWarning: invalid escape sequence '\\P'\n",
      "C:\\Users\\Pukhraj Garasiya\\AppData\\Local\\Temp\\ipykernel_6704\\319868939.py:4: SyntaxWarning: invalid escape sequence '\\P'\n",
      "  df_2021 = pd.read_csv('D:\\Projects\\Supercomputer Explorer and Benchmarking\\supecomputer 2021.csv')\n",
      "C:\\Users\\Pukhraj Garasiya\\AppData\\Local\\Temp\\ipykernel_6704\\319868939.py:9: SyntaxWarning: invalid escape sequence '\\P'\n",
      "  df_2022 = pd.read_csv('D:\\Projects\\Supercomputer Explorer and Benchmarking\\supercomputers in 2022 - in 2022.csv')\n",
      "C:\\Users\\Pukhraj Garasiya\\AppData\\Local\\Temp\\ipykernel_6704\\319868939.py:22: SettingWithCopyWarning: \n",
      "A value is trying to be set on a copy of a slice from a DataFrame.\n",
      "Try using .loc[row_indexer,col_indexer] = value instead\n",
      "\n",
      "See the caveats in the documentation: https://pandas.pydata.org/pandas-docs/stable/user_guide/indexing.html#returning-a-view-versus-a-copy\n",
      "  df['Rmax (PFlop/s)'] = df['Rmax (PFlop/s)'].str.replace(',', '').astype(float)\n",
      "C:\\Users\\Pukhraj Garasiya\\AppData\\Local\\Temp\\ipykernel_6704\\319868939.py:23: SettingWithCopyWarning: \n",
      "A value is trying to be set on a copy of a slice from a DataFrame.\n",
      "Try using .loc[row_indexer,col_indexer] = value instead\n",
      "\n",
      "See the caveats in the documentation: https://pandas.pydata.org/pandas-docs/stable/user_guide/indexing.html#returning-a-view-versus-a-copy\n",
      "  df['Rpeak (PFlop/s)'] = df['Rpeak (PFlop/s)'].str.replace(',', '').astype(float)\n"
     ]
    }
   ],
   "source": [
    "import pandas as pd\n",
    "\n",
    "def load_data_2021():\n",
    "    df_2021 = pd.read_csv('D:\\Projects\\Supercomputer Explorer and Benchmarking\\supecomputer 2021.csv')\n",
    "    df_2021 = clean_data_2021(df_2021)  # Call your cleaning function for 2021 data\n",
    "    return df_2021\n",
    "\n",
    "def load_data_2022():\n",
    "    df_2022 = pd.read_csv('D:\\Projects\\Supercomputer Explorer and Benchmarking\\supercomputers in 2022 - in 2022.csv')\n",
    "    df_2022 = clean_data_2022(df_2022)  # Call your cleaning function for 2022 data\n",
    "    return df_2022\n",
    "\n",
    "def clean_data_2021(df):\n",
    "    # Implement your cleaning logic for 2021 data here\n",
    "    df = df.dropna(subset=['Name', 'Manufacturer', 'Rmax [TFlop/s]', 'Rpeak [TFlop/s]'])\n",
    "    df = df.fillna(0)\n",
    "    return df\n",
    "\n",
    "def clean_data_2022(df):\n",
    "    # Implement your cleaning logic for 2022 data here\n",
    "    df = df.dropna(subset=['Name', 'Manufacturer', 'Rmax (PFlop/s)', 'Rpeak (PFlop/s)'])\n",
    "    df['Rmax (PFlop/s)'] = df['Rmax (PFlop/s)'].str.replace(',', '').astype(float)\n",
    "    df['Rpeak (PFlop/s)'] = df['Rpeak (PFlop/s)'].str.replace(',', '').astype(float)\n",
    "    df = df.fillna(0)\n",
    "    return df\n",
    "\n",
    "def merge_data(df_2021, df_2022):\n",
    "    # Merge datasets\n",
    "    df = pd.concat([df_2021, df_2022], ignore_index=True)\n",
    "    \n",
    "    # Fill missing values with 0\n",
    "    df['Total Cores'] = df['Total Cores'].fillna(0)\n",
    "    \n",
    "    # Clean 'Total Cores' column\n",
    "    df['Total Cores'] = df['Total Cores'].astype(str).str.replace(',', '').astype(float).astype(int)\n",
    "    \n",
    "    # Convert units for comparison\n",
    "    df_2022['Rmax [TFlop/s]'] = df_2022['Rmax (PFlop/s)'] * 1000  # Convert PFlop/s to TFlop/s\n",
    "    df_2022['Rpeak [TFlop/s]'] = df_2022['Rpeak (PFlop/s)'] * 1000  # Convert PFlop/s to TFlop/s\n",
    "    \n",
    "    # Standardize column names for merging\n",
    "    df_2022.rename(columns={\n",
    "        'current rank': 'Rank',\n",
    "        'Manufacturer/ Country': 'Manufacturer',\n",
    "        'where this supercomputer present': 'Country',\n",
    "        'Cores': 'Total Cores'\n",
    "    }, inplace=True)\n",
    "    \n",
    "    # Select necessary columns for merging\n",
    "    df_2022 = df_2022[['Rank', 'Manufacturer', 'Computer/System Model', 'Name', 'Country', 'Total Cores', 'Rmax [TFlop/s]', 'Rpeak [TFlop/s]', 'Power (kW)']]\n",
    "    \n",
    "    return df, df_2022\n",
    "\n",
    "if __name__ == '__main__':\n",
    "    # Load data\n",
    "    df_2021 = load_data_2021()\n",
    "    df_2022 = load_data_2022()\n",
    "    \n",
    "    # Merge and process data\n",
    "    df, df_2022_merged = merge_data(df_2021, df_2022)\n",
    "    \n",
    "    # Save data frames as .pkl files\n",
    "    df.to_pickle('combined_data.pkl')\n",
    "    df_2022_merged.to_pickle('merged_data_2022.pkl')\n"
   ]
  },
  {
   "cell_type": "code",
   "execution_count": 47,
   "metadata": {},
   "outputs": [],
   "source": [
    "# df_2022_merged.to_pickle('merged_data_2022.pkl')"
   ]
  }
 ],
 "metadata": {
  "kernelspec": {
   "display_name": "Python 3",
   "language": "python",
   "name": "python3"
  },
  "language_info": {
   "codemirror_mode": {
    "name": "ipython",
    "version": 3
   },
   "file_extension": ".py",
   "mimetype": "text/x-python",
   "name": "python",
   "nbconvert_exporter": "python",
   "pygments_lexer": "ipython3",
   "version": "3.12.3"
  }
 },
 "nbformat": 4,
 "nbformat_minor": 2
}
